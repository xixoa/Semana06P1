{
 "cells": [
  {
   "cell_type": "markdown",
   "id": "6525a047",
   "metadata": {},
   "source": [
    "# Semana 06\n",
    "Sebastian Timo Laura Antezana"
   ]
  },
  {
   "cell_type": "markdown",
   "id": "782b8317",
   "metadata": {},
   "source": [
    "Temas"
   ]
  },
  {
   "cell_type": "markdown",
   "id": "e74f4b07",
   "metadata": {},
   "source": [
    "1. Colecciones de datos\n",
    "2. Estructuras Decisivas y Estructuras Repetitivas\n",
    "3. Funciones\n",
    "4. Clases y objetos"
   ]
  },
  {
   "cell_type": "markdown",
   "id": "00ca66e6",
   "metadata": {},
   "source": [
    "4. Clases y objetos"
   ]
  },
  {
   "cell_type": "code",
   "execution_count": 2,
   "id": "ab6d819f",
   "metadata": {},
   "outputs": [],
   "source": [
    "#Problema 01\n",
    "\n",
    "#Crear la siguiente clase:\n",
    "# -Clase:Persona\n",
    "# -Atributos: nombre, apellido, talla, dni"
   ]
  },
  {
   "cell_type": "code",
   "execution_count": 4,
   "id": "78ece1fe",
   "metadata": {},
   "outputs": [],
   "source": [
    "class Persona:\n",
    "    nombres = \"\"\n",
    "    apellidos = \"\"\n",
    "    dni = \"\"\n",
    "    talla = 0"
   ]
  },
  {
   "cell_type": "code",
   "execution_count": 8,
   "id": "3fd95aff",
   "metadata": {},
   "outputs": [
    {
     "name": "stdout",
     "output_type": "stream",
     "text": [
      "persona1\n",
      "Nombre: Pablo\n",
      "Apellidos: Perez Gonzales\n",
      "DNI: 12345678\n",
      "Talla: 1.7\n"
     ]
    }
   ],
   "source": [
    "#Creamos un objeto persona1 de la clase Persona() y le asignamos \n",
    "#Creación de persona1\n",
    "\n",
    "persona1 = Persona()\n",
    "\n",
    "#Asignamos valores al objeto\n",
    "\n",
    "persona1.nombre=\"Pablo\"\n",
    "persona1.apellidos= \"Perez Gonzales\"\n",
    "persona1.dni=\"12345678\"\n",
    "persona1.talla=1.7\n",
    "\n",
    "#Para mostrar los valores del objeto:\n",
    "\n",
    "print(\"persona1\")\n",
    "print(f\"Nombre: {persona1.nombre}\")\n",
    "print(f\"Apellidos: {persona1.apellidos}\")\n",
    "print(f\"DNI: {persona1.dni}\")\n",
    "print(f\"Talla: {persona1.talla}\")"
   ]
  },
  {
   "cell_type": "code",
   "execution_count": 9,
   "id": "07cc997c",
   "metadata": {},
   "outputs": [],
   "source": [
    "#Para utilizar constructores utilizamos: __init__\n",
    "#¿Qué es un constructor?\n",
    "# - Es un método\n",
    "# - Sirve para inicializar valores a una clase"
   ]
  },
  {
   "cell_type": "code",
   "execution_count": 10,
   "id": "f288aba8",
   "metadata": {},
   "outputs": [],
   "source": [
    "#Problema 2\n",
    "#Crear la siguiente clase y utilizar constructores:\n",
    "# - Clase: Curso\n",
    "# - Atributos: Codigo, Nombre, Horas, Creditos\n"
   ]
  },
  {
   "cell_type": "code",
   "execution_count": 14,
   "id": "449f77a9",
   "metadata": {},
   "outputs": [],
   "source": [
    "#Solución:\n",
    "\n",
    "class curso:\n",
    "    def __init__(self,codigo,nombre,horas,creditos):\n",
    "        self.codigo = codigo\n",
    "        self.nombre = nombre\n",
    "        self.horas = horas\n",
    "        self.creditos = creditos\n",
    "        \n",
    "    def mostrar_datos_curso(self):\n",
    "        print(f\"Curso: {self.nombre}\")\n",
    "        print(f\"Codigo: {self.codigo}\")\n",
    "        print(f\"Horas: {self.horas}\")\n",
    "        print(f\"Creditos: {self.creditos}\")"
   ]
  },
  {
   "cell_type": "code",
   "execution_count": 16,
   "id": "5caad302",
   "metadata": {},
   "outputs": [],
   "source": [
    "#Creamos el objeto curso1 y le mandamos parametros\n",
    "\n",
    "curso1 = curso(\"C0501\",\"LP3\",6,6)"
   ]
  },
  {
   "cell_type": "markdown",
   "id": "5192639a",
   "metadata": {},
   "source": []
  }
 ],
 "metadata": {
  "kernelspec": {
   "display_name": "Python 3 (ipykernel)",
   "language": "python",
   "name": "python3"
  },
  "language_info": {
   "codemirror_mode": {
    "name": "ipython",
    "version": 3
   },
   "file_extension": ".py",
   "mimetype": "text/x-python",
   "name": "python",
   "nbconvert_exporter": "python",
   "pygments_lexer": "ipython3",
   "version": "3.9.7"
  }
 },
 "nbformat": 4,
 "nbformat_minor": 5
}

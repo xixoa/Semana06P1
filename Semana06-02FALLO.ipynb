{
 "cells": [
  {
   "cell_type": "markdown",
   "id": "1514acd4",
   "metadata": {},
   "source": [
    "# SEMANA 06\n",
    "Sebastian Timo Laura Antezana"
   ]
  },
  {
   "cell_type": "markdown",
   "id": "22b461a2",
   "metadata": {},
   "source": [
    "#Temas\n",
    "1. Colecciones de datos\n",
    "2. Estructuras decisivas y estructuras repetitivas\n",
    "3. Funciones\n",
    "4. Clases y objetos"
   ]
  },
  {
   "cell_type": "markdown",
   "id": "7fc10608",
   "metadata": {},
   "source": [
    "2. Estructuras Decisivas y Estructuras Repetitivas"
   ]
  },
  {
   "cell_type": "code",
   "execution_count": null,
   "id": "76fa3071",
   "metadata": {},
   "outputs": [],
   "source": [
    "# 2.1 Estructuras Decisivas(if, elif,else)"
   ]
  },
  {
   "cell_type": "code",
   "execution_count": null,
   "id": "4d0768d7",
   "metadata": {},
   "outputs": [],
   "source": [
    "#if\n",
    "#Problema: dado el precio de 3 productos ingresados por el teclado, aplicar el descuento del 10%\n",
    "# si la venta es mayor o igual a 1000"
   ]
  },
  {
   "cell_type": "code",
   "execution_count": null,
   "id": "a22aec51",
   "metadata": {},
   "outputs": [],
   "source": [
    "#Solución\n",
    "P1 = float(input(\"Producto 1: \"))\n",
    "P2 = float(input(\"Producto 2: \"))\n",
    "P3 = float(input(\"Producto 3: \"))\n",
    "total = P1 + P2 + P3\n",
    "if total >=1000:\n",
    "    total*=0.9\n",
    "   \n",
    "print(f\"Total a pagar es: {total}\")"
   ]
  },
  {
   "cell_type": "code",
   "execution_count": null,
   "id": "a618cc47",
   "metadata": {},
   "outputs": [],
   "source": [
    "#if-else"
   ]
  },
  {
   "cell_type": "code",
   "execution_count": null,
   "id": "76d9b34f",
   "metadata": {},
   "outputs": [],
   "source": [
    "#Problema 01(Recordando)\n",
    "# Problema 01 (Recordando)\n",
    "# Dado una lista de [ALANYA, ALVA, AZAÑERO, CARRASCO, CCACCYA, COSME, CUSI, DIAZ, FLORES, GOMEZ, GOMEZ, GRANADOS, HUANCAS, JULCA, LAURA,MOTTA,PINEDO,PONCE,QUINTANA,RODRIGUEZ,SERNA,VILCA,YAURICASA]\n",
    "# Diseñar un código que muestre si el apellido de un estudiante (Ingresado por teclado) forma parte de la lista"
   ]
  },
  {
   "cell_type": "code",
   "execution_count": null,
   "id": "f4b70405",
   "metadata": {},
   "outputs": [],
   "source": [
    "#Solución\n",
    "LP3 = [\"ALANYA\", \"ALVA\", \"AZAÑERO\", \"CARRASCO\", \n",
    "\"CCACCYA\", \"COSME\", \"CUSI\", \"DIAZ\", \"FLORES\", \"GOMEZ\", \n",
    "\"GOMEZ\", \"GRANADOS\", \"HUANCAS\", \"JULCA\", \"LAURA\", \"MOTTA\",\n",
    " \"PINEDO\", \"PONCE\", \"QUINTANA\", \"RODRIGUEZ\", \"SERNA\", \n",
    "\"VILCA\", \"YAURICASA\"]\n",
    "apellido = input(\"Ingrese nombre a buscar: \")\n",
    "\n",
    "#Como los datos de la lista estan en mayusculas, utilizo upper()\n",
    "if apellido.upper() in LP3:\n",
    "    print(\"Si esta en la lista de LP3\")\n",
    "else:\n",
    "    print(\"No esta en la lista LP3\")"
   ]
  },
  {
   "cell_type": "code",
   "execution_count": null,
   "id": "97ce6035",
   "metadata": {},
   "outputs": [],
   "source": [
    "# Problema 02\n",
    "# Dado el importe total de ventas realizadas por un trabajador (ingresado por teclado, \n",
    "# categorizar que tipo de empleado es, considerando la siguiente tabla:\n",
    "\n",
    "# Categoria: A -> [0, 1000]\n",
    "# Categoria: B -> <1000, 2000]\n",
    "# Categoria: C -> <2000, 5000]\n",
    "# Categoría: D -> <5000, Mas]\n",
    "\n",
    "# Tiempo asignado: 12 minutos"
   ]
  },
  {
   "cell_type": "code",
   "execution_count": null,
   "id": "134efc3f",
   "metadata": {},
   "outputs": [],
   "source": [
    "importe = input(\"Ingrese importe: \")\n",
    "\n",
    "if 0<=importe<1000:\n",
    "    print(\"Categoria A\")\n",
    "if 1000<=importe<2000:\n",
    "    print(\"Categoria B\")\n",
    "if 2000<=importe<5000:\n",
    "    print(\"Categoria C\")\n",
    "if 5000<=importe:\n",
    "    print(\"Categoria D\")\n",
    "    "
   ]
  },
  {
   "cell_type": "code",
   "execution_count": null,
   "id": "48e5fcde",
   "metadata": {},
   "outputs": [],
   "source": []
  }
 ],
 "metadata": {
  "kernelspec": {
   "display_name": "Python 3 (ipykernel)",
   "language": "python",
   "name": "python3"
  },
  "language_info": {
   "codemirror_mode": {
    "name": "ipython",
    "version": 3
   },
   "file_extension": ".py",
   "mimetype": "text/x-python",
   "name": "python",
   "nbconvert_exporter": "python",
   "pygments_lexer": "ipython3",
   "version": "3.9.7"
  }
 },
 "nbformat": 4,
 "nbformat_minor": 5
}

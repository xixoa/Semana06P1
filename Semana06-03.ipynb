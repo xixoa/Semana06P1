{
 "cells": [
  {
   "cell_type": "markdown",
   "id": "30361c54",
   "metadata": {},
   "source": [
    "# SEMANA 06\n",
    "Sebastian Timo Laura Antezana"
   ]
  },
  {
   "cell_type": "markdown",
   "id": "4b612b09",
   "metadata": {},
   "source": [
    "#Temas\n",
    "\n",
    "1. Colecciones de datos\n",
    "2. Estructuras decisivas y estructuras repetitivas\n",
    "3. Funciones\n",
    "4. Clases y objeto"
   ]
  },
  {
   "cell_type": "markdown",
   "id": "cb2a4b4b",
   "metadata": {},
   "source": [
    "3. Funciones"
   ]
  },
  {
   "cell_type": "code",
   "execution_count": 1,
   "id": "b40283a3",
   "metadata": {},
   "outputs": [],
   "source": [
    "#Tenemos 4 metodos:\n",
    "#-Metodos vacios\n",
    "#-Metodos que reciben valores\n",
    "#-Metodos que devuelvenb un valor\n",
    "#-Metodos que reciben y devuelven valores"
   ]
  },
  {
   "cell_type": "code",
   "execution_count": 2,
   "id": "289471df",
   "metadata": {},
   "outputs": [],
   "source": [
    "#3.1 Métodos vacios\n",
    "#Explicación: No reciben calores(Parámetros)\n",
    "\n",
    "def saludo():\n",
    "    print(\"Bienvenido al curso de LP3\")\n",
    "    print(\"***PHYTON***\")"
   ]
  },
  {
   "cell_type": "code",
   "execution_count": 7,
   "id": "a23a3a45",
   "metadata": {},
   "outputs": [
    {
     "name": "stdout",
     "output_type": "stream",
     "text": [
      "Bienvenido al curso de LP3\n",
      "***PHYTON***\n"
     ]
    }
   ],
   "source": [
    "saludo()"
   ]
  },
  {
   "cell_type": "code",
   "execution_count": 15,
   "id": "d3054fe6",
   "metadata": {},
   "outputs": [],
   "source": [
    "#3.2 Métodos que reciben valores\n",
    "\n",
    "def factorial(numero):\n",
    "    fac=1\n",
    "    for i in range(1,numero+1):\n",
    "        fac*=i\n",
    "        #fact=fact*i\n",
    "        print(f\"El factorial es {fac}\")"
   ]
  },
  {
   "cell_type": "code",
   "execution_count": 20,
   "id": "f3a9e328",
   "metadata": {},
   "outputs": [
    {
     "name": "stdout",
     "output_type": "stream",
     "text": [
      "Ingrese el número: 3\n",
      "El factorial es 1\n",
      "El factorial es 2\n",
      "El factorial es 6\n"
     ]
    }
   ],
   "source": [
    "numero=int(input(\"Ingrese el número: \"))\n",
    "factorial(numero)"
   ]
  },
  {
   "cell_type": "code",
   "execution_count": 11,
   "id": "e91e47ca",
   "metadata": {},
   "outputs": [],
   "source": [
    "#3.3 Metodos que devuelven valores\n",
    "def saludo2():\n",
    "    mensaje=\"Bienvenidos a LP3\"\n",
    "    return mensaje"
   ]
  },
  {
   "cell_type": "code",
   "execution_count": 12,
   "id": "97c946a1",
   "metadata": {},
   "outputs": [
    {
     "name": "stdout",
     "output_type": "stream",
     "text": [
      "Bienvenidos a LP3\n"
     ]
    }
   ],
   "source": [
    "print(saludo2())"
   ]
  },
  {
   "cell_type": "code",
   "execution_count": 13,
   "id": "1b6714d0",
   "metadata": {},
   "outputs": [],
   "source": [
    "#3.4 Métodos que reciben y devuelven valores\n",
    "\n",
    "def factorial2(numero):\n",
    "    fac = 1\n",
    "    for i in range(1,numero+1):\n",
    "        fac*=i\n",
    "    return fac"
   ]
  },
  {
   "cell_type": "code",
   "execution_count": 14,
   "id": "24fbe08b",
   "metadata": {},
   "outputs": [
    {
     "name": "stdout",
     "output_type": "stream",
     "text": [
      "Numero: 5\n",
      "El factorial de 5 es 120\n"
     ]
    }
   ],
   "source": [
    "numero = int(input(\"Numero: \"))\n",
    "print(f\"El factorial de {numero} es {factorial2(numero)}\")"
   ]
  },
  {
   "cell_type": "code",
   "execution_count": 17,
   "id": "4b13e959",
   "metadata": {},
   "outputs": [],
   "source": [
    "#Otro ejemplo\n",
    "#Calcular el igv\n",
    "\n",
    "def obtenerigv(importe):\n",
    "    return importe*0.19"
   ]
  },
  {
   "cell_type": "code",
   "execution_count": 18,
   "id": "2528c137",
   "metadata": {},
   "outputs": [
    {
     "data": {
      "text/plain": [
       "19.0"
      ]
     },
     "execution_count": 18,
     "metadata": {},
     "output_type": "execute_result"
    }
   ],
   "source": [
    "obtenerigv(100)"
   ]
  },
  {
   "cell_type": "code",
   "execution_count": 19,
   "id": "be5253fe",
   "metadata": {},
   "outputs": [
    {
     "data": {
      "text/plain": [
       "140"
      ]
     },
     "execution_count": 19,
     "metadata": {},
     "output_type": "execute_result"
    }
   ],
   "source": [
    "factorial2(5)+20"
   ]
  },
  {
   "cell_type": "code",
   "execution_count": null,
   "id": "f5467ef5",
   "metadata": {},
   "outputs": [],
   "source": []
  }
 ],
 "metadata": {
  "kernelspec": {
   "display_name": "Python 3 (ipykernel)",
   "language": "python",
   "name": "python3"
  },
  "language_info": {
   "codemirror_mode": {
    "name": "ipython",
    "version": 3
   },
   "file_extension": ".py",
   "mimetype": "text/x-python",
   "name": "python",
   "nbconvert_exporter": "python",
   "pygments_lexer": "ipython3",
   "version": "3.9.7"
  }
 },
 "nbformat": 4,
 "nbformat_minor": 5
}

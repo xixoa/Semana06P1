{
 "cells": [
  {
   "cell_type": "markdown",
   "id": "a58b49ed",
   "metadata": {},
   "source": [
    "# SEMANA 06\n",
    "Sebastian Timo Laura Antezana"
   ]
  },
  {
   "cell_type": "markdown",
   "id": "6c719f46",
   "metadata": {},
   "source": [
    "#Temas\n",
    "\n",
    "1. Colecciones de datos\n",
    "2. Estructuras decisivas y estructuras repetitivas\n",
    "3. Funciones\n",
    "4. Clases y objetos"
   ]
  },
  {
   "cell_type": "markdown",
   "id": "6d87b6a8",
   "metadata": {},
   "source": [
    "2. Estructuras Decisivas y Estructuras Repetitivas"
   ]
  },
  {
   "cell_type": "code",
   "execution_count": null,
   "id": "cddd42bf",
   "metadata": {},
   "outputs": [],
   "source": [
    "#if\n",
    "#Problema: dado el precio de 3 productos ingresados por el teclado, aplicar el descuento del 10%\n",
    "# si la venta es mayor o igual a 1000"
   ]
  },
  {
   "cell_type": "code",
   "execution_count": 4,
   "id": "0ecbc4b8",
   "metadata": {},
   "outputs": [
    {
     "name": "stdout",
     "output_type": "stream",
     "text": [
      "Producto 1: 2\n",
      "Producto 2: 3\n",
      "Producto 3: 4\n",
      "Total a pagar es: 9.0\n"
     ]
    }
   ],
   "source": [
    "#Solución\n",
    "P1 = float(input(\"Producto 1: \"))\n",
    "P2 = float(input(\"Producto 2: \"))\n",
    "P3 = float(input(\"Producto 3: \"))\n",
    "total = P1 + P2 + P3\n",
    "if total >=1000:\n",
    "    total*=0.9\n",
    "   \n",
    "print(f\"Total a pagar es: {total}\")"
   ]
  },
  {
   "cell_type": "code",
   "execution_count": null,
   "id": "3ea7a85a",
   "metadata": {},
   "outputs": [],
   "source": [
    "#if-else"
   ]
  },
  {
   "cell_type": "code",
   "execution_count": 5,
   "id": "ccdab871",
   "metadata": {},
   "outputs": [],
   "source": [
    "#Problema 01(Recordando)\n",
    "# Problema 01 (Recordando)\n",
    "# Dado una lista de [ALANYA, ALVA, AZAÑERO, CARRASCO, CCACCYA, COSME, CUSI, DIAZ, FLORES, GOMEZ, GOMEZ, GRANADOS, HUANCAS, JULCA, LAURA,MOTTA,PINEDO,PONCE,QUINTANA,RODRIGUEZ,SERNA,VILCA,YAURICASA]\n",
    "# Diseñar un código que muestre si el apellido de un estudiante (Ingresado por teclado) forma parte de la lista"
   ]
  },
  {
   "cell_type": "code",
   "execution_count": null,
   "id": "802e998f",
   "metadata": {},
   "outputs": [],
   "source": [
    "#Solución\n",
    "LP3 = [\"ALANYA\", \"ALVA\", \"AZAÑERO\", \"CARRASCO\", \n",
    "\"CCACCYA\", \"COSME\", \"CUSI\", \"DIAZ\", \"FLORES\", \"GOMEZ\", \n",
    "\"GOMEZ\", \"GRANADOS\", \"HUANCAS\", \"JULCA\", \"LAURA\", \"MOTTA\",\n",
    " \"PINEDO\", \"PONCE\", \"QUINTANA\", \"RODRIGUEZ\", \"SERNA\", \n",
    "\"VILCA\", \"YAURICASA\"]\n",
    "apellido = input(\"Ingrese nombre a buscar: \")\n",
    "\n",
    "#Como los datos de la lista estan en mayusculas, utilizo upper()\n",
    "if apellido.upper() in LP3:\n",
    "    print(\"Si esta en la lista de LP3\")\n",
    "else:\n",
    "    print(\"No esta en la lista LP3\")"
   ]
  },
  {
   "cell_type": "code",
   "execution_count": null,
   "id": "a099175a",
   "metadata": {},
   "outputs": [],
   "source": [
    "# Problema 02\n",
    "# Dado el importe total de ventas realizadas por un trabajador (ingresado por teclado, \n",
    "# categorizar que tipo de empleado es, considerando la siguiente tabla:\n",
    "\n",
    "# Categoria: A -> [0, 1000]\n",
    "# Categoria: B -> <1000, 2000]\n",
    "# Categoria: C -> <2000, 5000]\n",
    "# Categoría: D -> <5000, Mas]\n",
    "\n",
    "# Tiempo asignado: 12 minutos"
   ]
  },
  {
   "cell_type": "code",
   "execution_count": 6,
   "id": "bf47d22b",
   "metadata": {},
   "outputs": [
    {
     "name": "stdout",
     "output_type": "stream",
     "text": [
      "Ingrese importe: 2342\n",
      "Categoria C\n"
     ]
    }
   ],
   "source": [
    "importe = int(input(\"Ingrese importe: \"))\n",
    "\n",
    "if 0<=importe<1000:\n",
    "    print(\"Categoria A\")\n",
    "if 1000<=importe<2000:\n",
    "    print(\"Categoria B\")\n",
    "if 2000<=importe<5000:\n",
    "    print(\"Categoria C\")\n",
    "if 5000<=importe:\n",
    "    print(\"Categoria D\")"
   ]
  },
  {
   "cell_type": "code",
   "execution_count": 12,
   "id": "a1baebcf",
   "metadata": {},
   "outputs": [
    {
     "name": "stdout",
     "output_type": "stream",
     "text": [
      "Ingrese importe: 12\n",
      "Categoria A\n"
     ]
    }
   ],
   "source": [
    "importe = int(input(\"Ingrese importe: \"))\n",
    "\n",
    "if 0<=importe<1000:\n",
    "    print(\"Categoria A\")\n",
    "elif 1000<=importe<2000:\n",
    "    print(\"Categoria B\")\n",
    "if 2000<=importe<5000:\n",
    "    print(\"Categoria C\")\n",
    "elif 5000<=importe:\n",
    "    print(\"Categoria D\")"
   ]
  },
  {
   "cell_type": "code",
   "execution_count": 13,
   "id": "a91da8f5",
   "metadata": {},
   "outputs": [],
   "source": [
    "#Estructuras Repetitivas"
   ]
  },
  {
   "cell_type": "code",
   "execution_count": 14,
   "id": "75b9e57f",
   "metadata": {},
   "outputs": [],
   "source": [
    "#For"
   ]
  },
  {
   "cell_type": "code",
   "execution_count": 15,
   "id": "d76a1c93",
   "metadata": {},
   "outputs": [],
   "source": [
    "#Problema 01:\n",
    "#Mostrar los elementos de una lista utilizando for"
   ]
  },
  {
   "cell_type": "code",
   "execution_count": 16,
   "id": "e71d6191",
   "metadata": {},
   "outputs": [
    {
     "name": "stdout",
     "output_type": "stream",
     "text": [
      "Yauricasa\n",
      "Granados\n",
      "Laura\n",
      "Alva\n"
     ]
    }
   ],
   "source": [
    "#Solución\n",
    "aula=[\"Yauricasa\",\"Granados\",\"Laura\",\"Alva\"]\n",
    "#por cada alumno que esta en la lista, imprimira alumno\n",
    "for alumno in aula:\n",
    "    print(alumno)"
   ]
  },
  {
   "cell_type": "code",
   "execution_count": 17,
   "id": "9478254e",
   "metadata": {},
   "outputs": [],
   "source": [
    "#Problema 02\n",
    "#Dado una cadena ingresado por teclado, mostrar cada caracter de la\n",
    "#cadena, utilizando la estructura for"
   ]
  },
  {
   "cell_type": "code",
   "execution_count": 18,
   "id": "60cfe0e3",
   "metadata": {},
   "outputs": [
    {
     "name": "stdout",
     "output_type": "stream",
     "text": [
      "Ingrese cadena: Pablito clavo un clavito\n",
      "P\n",
      "a\n",
      "b\n",
      "l\n",
      "i\n",
      "t\n",
      "o\n",
      " \n",
      "c\n",
      "l\n",
      "a\n",
      "v\n",
      "o\n",
      " \n",
      "u\n",
      "n\n",
      " \n",
      "c\n",
      "l\n",
      "a\n",
      "v\n",
      "i\n",
      "t\n",
      "o\n"
     ]
    }
   ],
   "source": [
    "#Solución\n",
    "\n",
    "cadena = input(\"Ingrese cadena: \")\n",
    "for caracter in cadena:\n",
    "    print(caracter)"
   ]
  },
  {
   "cell_type": "code",
   "execution_count": 19,
   "id": "6a92d596",
   "metadata": {},
   "outputs": [
    {
     "data": {
      "text/plain": [
       "range(0, 5)"
      ]
     },
     "execution_count": 19,
     "metadata": {},
     "output_type": "execute_result"
    }
   ],
   "source": [
    "#Para generar rangos de los números range()\n",
    "range(5)"
   ]
  },
  {
   "cell_type": "code",
   "execution_count": 22,
   "id": "e0027965",
   "metadata": {},
   "outputs": [
    {
     "name": "stdout",
     "output_type": "stream",
     "text": [
      "1\n",
      "2\n",
      "3\n",
      "4\n",
      "5\n",
      "6\n",
      "7\n",
      "8\n",
      "9\n",
      "10\n"
     ]
    }
   ],
   "source": [
    "#Imprimir los numeros de 0 a 10, utilizando for\n",
    "numeros= range(10)\n",
    "for num in numeros:\n",
    "    print(num+1)"
   ]
  },
  {
   "cell_type": "code",
   "execution_count": 27,
   "id": "608bea0d",
   "metadata": {},
   "outputs": [
    {
     "name": "stdout",
     "output_type": "stream",
     "text": [
      "10\n",
      "12\n",
      "14\n",
      "16\n",
      "18\n",
      "20\n",
      "22\n",
      "24\n",
      "26\n",
      "28\n"
     ]
    }
   ],
   "source": [
    "#Problema 3\n",
    "#Imprimir los números de 10 a 20 utilizando for\n",
    "for numero in range(10,30,2):\n",
    "    print(numero)"
   ]
  },
  {
   "cell_type": "code",
   "execution_count": 42,
   "id": "ba1a8ca6",
   "metadata": {},
   "outputs": [
    {
     "name": "stdout",
     "output_type": "stream",
     "text": [
      "[10, 20, 5, -10, 100, 0, 50, 17, 2000, -1000, 0]\n",
      "[-1000, -10, 0, 0, 5, 10, 17, 20, 50, 100, 2000]\n"
     ]
    }
   ],
   "source": [
    "#Problema 03\n",
    "# Dado una lista de números, utilizando el algoritmo de \n",
    "#burbuja ordenarlos de menor a mayor\n",
    "A=[10,20,5,-10,100, 0, 50, 17, 2000,-1000,0];\n",
    "print(A) \n",
    "bur(A);\n",
    "\n",
    "def bur(A):\n",
    "    for i in range(1,len(A)):\n",
    "        for j in range(0,len(A)-i):\n",
    "            if(A[j+1] < A[j]):\n",
    "                aux=A[j];\n",
    "                A[j]=A[j+1];\n",
    "                A[j+1]=aux;\n",
    "    print(A);\n",
    " "
   ]
  },
  {
   "cell_type": "code",
   "execution_count": 39,
   "id": "1b34104e",
   "metadata": {},
   "outputs": [
    {
     "name": "stdout",
     "output_type": "stream",
     "text": [
      "1\n",
      "2\n",
      "3\n",
      "4\n",
      "5\n",
      "6\n",
      "7\n",
      "8\n",
      "9\n",
      "10\n"
     ]
    }
   ],
   "source": [
    "#While\n",
    "#Permite ejecutar un conjunto de acciones mientras se cumpla la condición\n",
    "numero = 1\n",
    "fin = 10\n",
    "while numero <= fin:\n",
    "    print(numero)\n",
    "    numero+=1"
   ]
  },
  {
   "cell_type": "code",
   "execution_count": null,
   "id": "7159277a",
   "metadata": {},
   "outputs": [],
   "source": []
  }
 ],
 "metadata": {
  "kernelspec": {
   "display_name": "Python 3 (ipykernel)",
   "language": "python",
   "name": "python3"
  },
  "language_info": {
   "codemirror_mode": {
    "name": "ipython",
    "version": 3
   },
   "file_extension": ".py",
   "mimetype": "text/x-python",
   "name": "python",
   "nbconvert_exporter": "python",
   "pygments_lexer": "ipython3",
   "version": "3.9.7"
  }
 },
 "nbformat": 4,
 "nbformat_minor": 5
}
